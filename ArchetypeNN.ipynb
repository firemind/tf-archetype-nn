{
 "cells": [
  {
   "cell_type": "code",
   "execution_count": 1,
   "metadata": {
    "collapsed": false
   },
   "outputs": [],
   "source": [
    "import tensorflow as tf\n",
    "import numpy as np\n",
    "import mynn as mynn\n"
   ]
  },
  {
   "cell_type": "code",
   "execution_count": 2,
   "metadata": {
    "collapsed": false
   },
   "outputs": [],
   "source": [
    "archetypes = []\n",
    "header = None\n",
    "cards = None\n",
    "classes = set()\n",
    "import csv\n",
    "with open('archetypes.csv', 'rb') as csvfile:\n",
    "  reader = csv.reader(csvfile, delimiter=',', quotechar='\"')\n",
    "  for row in reader:\n",
    "    if header == None:\n",
    "      header = row\n",
    "      cards = map(int, row[3:])\n",
    "    elif row[2] == \"23\":\n",
    "      c = int(row[1])\n",
    "      classes.add(c)\n",
    "      rec = [map(float, row[3:]), c]\n",
    "      archetypes.append(rec)\n",
    "    else:\n",
    "      print row[2];\n",
    "      #break"
   ]
  },
  {
   "cell_type": "code",
   "execution_count": 3,
   "metadata": {
    "collapsed": false
   },
   "outputs": [
    {
     "data": {
      "text/plain": [
       "100"
      ]
     },
     "execution_count": 3,
     "metadata": {},
     "output_type": "execute_result"
    }
   ],
   "source": [
    "io_pair = []\n",
    "max_samples = 100\n",
    "import random\n",
    "random.shuffle(archetypes)\n",
    "for rec in archetypes[:max_samples]:\n",
    "    io_pair.append([\n",
    "        rec[0],\n",
    "        map(lambda x: (1.0 if x == rec[1] else 0.0), classes)\n",
    "    ])\n",
    "len(io_pair)"
   ]
  },
  {
   "cell_type": "code",
   "execution_count": 4,
   "metadata": {
    "collapsed": false
   },
   "outputs": [],
   "source": [
    "split = int(len(io_pair) * 0.8)\n",
    "train = io_pair[:split]\n",
    "test  = io_pair[(split+1):]\n"
   ]
  },
  {
   "cell_type": "code",
   "execution_count": 5,
   "metadata": {
    "collapsed": false,
    "scrolled": true
   },
   "outputs": [
    {
     "name": "stdout",
     "output_type": "stream",
     "text": [
      "Training size:  80\n",
      "Testing size:   19\n"
     ]
    }
   ],
   "source": [
    "print \"Training size: \", len(train)\n",
    "print \"Testing size:  \", len(test)"
   ]
  },
  {
   "cell_type": "code",
   "execution_count": 6,
   "metadata": {
    "collapsed": false
   },
   "outputs": [],
   "source": [
    "def derivsig(x):\n",
    "    s = tf.nn.sigmoid(x)\n",
    "    return tf.mul(s, tf.sub(tf.ones(tf.shape(x)), s))\n",
    "net = mynn.MyNeuralNet(tf.nn.softmax, tf.nn.sigmoid, derivsig )\n",
    "net.init_weights(len(cards), 20, None, len(classes))\n",
    "net.set_classes(list(classes))"
   ]
  },
  {
   "cell_type": "code",
   "execution_count": 7,
   "metadata": {
    "collapsed": false
   },
   "outputs": [
    {
     "name": "stdout",
     "output_type": "stream",
     "text": [
      "--- 1.76081395149 seconds ---\n"
     ]
    }
   ],
   "source": [
    "for sample in train:   \n",
    "  e = net.train(sample[0], sample[1])\n",
    "net.finish_training()"
   ]
  },
  {
   "cell_type": "code",
   "execution_count": 8,
   "metadata": {
    "collapsed": false,
    "scrolled": true
   },
   "outputs": [
    {
     "name": "stdout",
     "output_type": "stream",
     "text": [
      "--- 1.15157198906 seconds ---\n",
      "--- 0.999980926514 seconds ---\n",
      "570\n",
      "--- 1.00736498833 seconds ---\n",
      "--- 0.81725692749 seconds ---\n",
      "585\n",
      "--- 1.038189888 seconds ---\n",
      "--- 1.16034317017 seconds ---\n",
      "585\n",
      "--- 1.03167104721 seconds ---\n",
      "--- 0.824755191803 seconds ---\n",
      "585\n",
      "--- 1.04796504974 seconds ---\n",
      "--- 1.15666484833 seconds ---\n",
      "570\n",
      "--- 1.22731518745 seconds ---\n",
      "--- 0.869996070862 seconds ---\n",
      "570\n",
      "--- 1.06211996078 seconds ---\n",
      "--- 1.24753189087 seconds ---\n",
      "585\n",
      "--- 0.909791946411 seconds ---\n",
      "--- 1.20550680161 seconds ---\n",
      "585\n",
      "--- 1.17591691017 seconds ---\n",
      "--- 1.005204916 seconds ---\n",
      "585\n",
      "--- 1.29037690163 seconds ---\n",
      "--- 1.1248588562 seconds ---\n",
      "585\n",
      "--- 1.50211191177 seconds ---\n",
      "--- 0.901733875275 seconds ---\n",
      "585\n",
      "--- 1.28409790993 seconds ---\n",
      "--- 0.908797979355 seconds ---\n",
      "585\n",
      "--- 1.06365394592 seconds ---\n",
      "--- 1.25536108017 seconds ---\n",
      "585\n",
      "--- 0.907660007477 seconds ---\n",
      "--- 1.25532889366 seconds ---\n",
      "585\n",
      "--- 0.91613984108 seconds ---\n",
      "--- 1.27270293236 seconds ---\n",
      "--- 1.0931019783 seconds ---\n",
      "--- 0.928179979324 seconds ---\n",
      "585\n",
      "--- 1.18945407867 seconds ---\n",
      "--- 1.43690991402 seconds ---\n",
      "585\n",
      "--- 0.939502000809 seconds ---\n",
      "--- 1.11531400681 seconds ---\n",
      "585\n",
      "--- 1.3358528614 seconds ---\n",
      "--- 0.990400075912 seconds ---\n",
      "585\n",
      "Error rate  0.947368421053\n"
     ]
    }
   ],
   "source": [
    "errors = 0.0\n",
    "for sample in test:\n",
    "  out = net.evaluate_for(sample[0])\n",
    "  c = net.extract_class_from(out)\n",
    "  if c != net.extract_class_from(sample[1]):\n",
    "    print(c)\n",
    "    errors+=1\n",
    "print \"Error rate \", errors/len(test)\n",
    "#net.close()"
   ]
  },
  {
   "cell_type": "code",
   "execution_count": null,
   "metadata": {
    "collapsed": false
   },
   "outputs": [],
   "source": []
  },
  {
   "cell_type": "code",
   "execution_count": null,
   "metadata": {
    "collapsed": true
   },
   "outputs": [],
   "source": []
  }
 ],
 "metadata": {
  "kernelspec": {
   "display_name": "Python 2",
   "language": "python",
   "name": "python2"
  },
  "language_info": {
   "codemirror_mode": {
    "name": "ipython",
    "version": 2
   },
   "file_extension": ".py",
   "mimetype": "text/x-python",
   "name": "python",
   "nbconvert_exporter": "python",
   "pygments_lexer": "ipython2",
   "version": "2.7.6"
  }
 },
 "nbformat": 4,
 "nbformat_minor": 0
}
